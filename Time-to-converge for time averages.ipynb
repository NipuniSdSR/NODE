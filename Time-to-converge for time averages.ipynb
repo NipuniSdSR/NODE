{
 "cells": [
  {
   "cell_type": "code",
   "execution_count": 1,
   "id": "94e631a4",
   "metadata": {},
   "outputs": [],
   "source": [
    "import numpy as np\n",
    "from scipy.integrate import odeint, solve_ivp\n",
    "import matplotlib.pyplot as plt\n",
    "from mpl_toolkits.mplot3d import Axes3D"
   ]
  },
  {
   "cell_type": "markdown",
   "id": "340e4005",
   "metadata": {},
   "source": [
    "## Lorenz'63"
   ]
  },
  {
   "cell_type": "code",
   "execution_count": 2,
   "id": "da00bb90",
   "metadata": {},
   "outputs": [],
   "source": [
    "def lorenz(x, t, sigma, beta, rho):\n",
    "    \"\"\"The Lorenz equations\n",
    "    \"\"\"\n",
    "    u, v, w = x\n",
    "    up = - sigma * (u - v)\n",
    "    vp = rho * u - v - u * w\n",
    "    wp = - beta * w + u * v\n",
    "    return up, vp, wp"
   ]
  },
  {
   "cell_type": "code",
   "execution_count": 3,
   "id": "fb0d34a8",
   "metadata": {},
   "outputs": [],
   "source": [
    "# Lorenz paramters and initial conditions\n",
    "sigma, beta, rho = 10, 2.667, 28\n",
    "u0, v0, w0 = 0, 1, 1.05\n",
    "\n",
    "# Maximum time point and total number of time points\n",
    "tmax, n = 100, 10000\n",
    "\n",
    "# Integrate the Lorenz equations on the time grid t\n",
    "t = np.linspace(0, tmax, n)\n",
    "sol = odeint(lorenz, (u0, v0, w0), t, args=(sigma, beta, rho))"
   ]
  },
  {
   "cell_type": "markdown",
   "id": "db86a860",
   "metadata": {},
   "source": [
    "## Evaluate the observable along the trajectory"
   ]
  },
  {
   "cell_type": "code",
   "execution_count": 4,
   "id": "d26baa12",
   "metadata": {
    "tags": []
   },
   "outputs": [],
   "source": [
    "def complexexp(sol, wv = [1,1,1], xmin = [0,0,0], xmax = [10,10,10]):\n",
    "    wv = np.array(wv, ndmin=2).T\n",
    "    xmin = np.array(xmin, ndmin=1)\n",
    "    xmax = np.array(xmax, ndmin=1)\n",
    "    \n",
    "    sol = (sol - xmin) / (xmax - xmin)\n",
    "    \n",
    "    return np.exp( 2j*np.pi* np.dot(sol, wv) ).flatten()"
   ]
  },
  {
   "cell_type": "code",
   "execution_count": 5,
   "id": "7c953274",
   "metadata": {
    "tags": []
   },
   "outputs": [],
   "source": [
    "obs = complexexp(sol,wv = [1,2,1] )"
   ]
  },
  {
   "cell_type": "markdown",
   "id": "f79465e2",
   "metadata": {},
   "source": [
    "## Compute a running time average"
   ]
  },
  {
   "cell_type": "code",
   "execution_count": 6,
   "id": "93983234",
   "metadata": {},
   "outputs": [],
   "source": [
    "def cumavg(tt,vv):\n",
    "    timesteps = (tt[1:] - tt[0:-1])\n",
    "    triangle_rule = ( vv[0:-1] + vv[1:] )/2\n",
    "    \n",
    "    out = np.cumsum( triangle_rule * timesteps) # compute cumulative integral T -> int_0^T f(t) dt\n",
    "    out = out / tt[1:] # divide the integral by time duration\n",
    "    return tt[1:],out"
   ]
  },
  {
   "cell_type": "code",
   "execution_count": 7,
   "id": "27e031cc",
   "metadata": {
    "tags": []
   },
   "outputs": [
    {
     "data": {
      "text/plain": [
       "<Figure size 640x480 with 0 Axes>"
      ]
     },
     "metadata": {},
     "output_type": "display_data"
    }
   ],
   "source": [
    "def plot_avg( tt, aa, fig = plt.figure() ):\n",
    "    plt.subplot(121)\n",
    "    plt.plot(tt, np.real(aa))\n",
    "    plt.xlabel('Averaging time')\n",
    "    plt.ylabel('Real part')\n",
    "\n",
    "    plt.subplot(122)\n",
    "    plt.plot(tt, np.imag(aa))\n",
    "    plt.xlabel('Averaging time')\n",
    "    plt.ylabel('Imaginary part')\n",
    "    return fig"
   ]
  },
  {
   "cell_type": "code",
   "execution_count": 8,
   "id": "8c7ae227",
   "metadata": {},
   "outputs": [
    {
     "data": {
      "text/plain": [
       "<Figure size 640x480 with 0 Axes>"
      ]
     },
     "execution_count": 8,
     "metadata": {},
     "output_type": "execute_result"
    },
    {
     "data": {
      "image/png": "[encoded data removed]",
      "text/plain": [
       "<Figure size 640x480 with 2 Axes>"
      ]
     },
     "metadata": {},
     "output_type": "display_data"
    }
   ],
   "source": [
    "ta,a = cumavg(t,obs)\n",
    "plot_avg(ta,a)"
   ]
  },
  {
   "cell_type": "markdown",
   "id": "e699a4cb",
   "metadata": {},
   "source": [
    "## Plot the trajectory, just for kicks"
   ]
  },
  {
   "cell_type": "markdown",
   "id": "dc761c40",
   "metadata": {},
   "source": [
    "Based on the following script: https://gist.github.com/brews/37253ff1a31dc4525c5821f2436e39f0"
   ]
  },
  {
   "cell_type": "code",
   "execution_count": 9,
   "id": "9164e3cf",
   "metadata": {
    "tags": []
   },
   "outputs": [
    {
     "data": {
      "text/plain": [
       "<Figure size 640x480 with 0 Axes>"
      ]
     },
     "metadata": {},
     "output_type": "display_data"
    }
   ],
   "source": [
    "def plot_lorenz( sol, fig=plt.figure() ):# Plot the Lorenz attractor using a Matplotlib 3D projection\n",
    "    # Make the line multi-coloured by plotting it in segments of length s which\n",
    "    # change in colour across the whole time series.\n",
    "    s = 10\n",
    "    c = np.linspace(0,1,n)\n",
    "    ax = fig.gca()\n",
    "    for i in range(0,n-s,s):\n",
    "        ax.plot(sol[i:i+s+1,0], \n",
    "                 sol[i:i+s+1,1], \n",
    "                 color=(1,c[i],0), \n",
    "                 alpha=0.4)\n",
    "\n",
    "    return fig\n"
   ]
  },
  {
   "cell_type": "markdown",
   "id": "8d0e2a5c",
   "metadata": {},
   "source": [
    "## Let's get interactive"
   ]
  },
  {
   "cell_type": "code",
   "execution_count": 10,
   "id": "783dbf74",
   "metadata": {},
   "outputs": [],
   "source": [
    "from ipywidgets import interact, interactive, fixed, interact_manual\n",
    "import ipywidgets as widgets"
   ]
  },
  {
   "cell_type": "code",
   "execution_count": 11,
   "id": "a2e32ded",
   "metadata": {
    "tags": []
   },
   "outputs": [
    {
     "data": {
      "application/vnd.jupyter.widget-view+json": {
       "model_id": "5d0b05d896b7454084d4f6a7a1848718",
       "version_major": 2,
       "version_minor": 0
      },
      "text/plain": [
       "interactive(children=(IntSlider(value=0, description='wx', max=10), IntSlider(value=0, description='wy', max=1…"
      ]
     },
     "metadata": {},
     "output_type": "display_data"
    }
   ],
   "source": [
    "@interact\n",
    "def _( wx = widgets.IntSlider(min=0,max=10,step=1), \n",
    "       wy = widgets.IntSlider(min=0,max=10,step=1), \n",
    "       wz = widgets.IntSlider(min=0,max=10,step=1), \n",
    "       tmax = widgets.IntSlider(min=10,max=200,step=10) ):\n",
    "    \n",
    "    t = np.linspace(0, tmax, tmax*100)\n",
    "    sol = odeint(lorenz, (u0, v0, w0), t, args=(sigma, beta, rho))\n",
    "    obs = complexexp(sol,wv = [wx,wy,wz] )\n",
    "    ta,a = cumavg(t,obs)\n",
    "    fig = plot_avg(ta,a)\n",
    "    fig.add_subplot(1,3,2)\n",
    "    plot_lorenz(sol,fig)\n",
    "    return fig\n"
   ]
  },
  {
   "cell_type": "code",
   "execution_count": null,
   "id": "a2fc4179",
   "metadata": {
    "collapsed": true,
    "jupyter": {
     "outputs_hidden": true
    }
   },
   "outputs": [],
   "source": []
  }
 ],
 "metadata": {
  "kernelspec": {
   "display_name": "Python 3 (ipykernel)",
   "language": "python",
   "name": "python3"
  },
  "language_info": {
   "codemirror_mode": {
    "name": "ipython",
    "version": 3
   },
   "file_extension": ".py",
   "mimetype": "text/x-python",
   "name": "python",
   "nbconvert_exporter": "python",
   "pygments_lexer": "ipython3",
   "version": "3.9.15"
  }
 },
 "nbformat": 4,
 "nbformat_minor": 5
}
